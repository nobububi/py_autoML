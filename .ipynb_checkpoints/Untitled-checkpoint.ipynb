{
 "cells": [
  {
   "cell_type": "code",
   "execution_count": 1,
   "metadata": {},
   "outputs": [],
   "source": [
    "def elemental_info(data):\n",
    "    print('データを表示\\n')\n",
    "    print(data.head())\n",
    "    print('\\n\\nデータの基礎情報表示\\n')\n",
    "    print(data.describe())\n",
    "    print('\\n\\nデータの量表示\\n')\n",
    "    print(data.shape)"
   ]
  },
  {
   "cell_type": "code",
   "execution_count": 3,
   "metadata": {},
   "outputs": [],
   "source": [
    "def null_handling(data,null_line):\n",
    "    nrow,ncol=data.shape\n",
    "    data.isnull().sum().sort_values(ascending=False).head(10)\n",
    "    newdata=data.loc[:,data.isnull().sum()<nrow*0.8]\n",
    "    print('欠損許容ラインを下回るデータを削除、データ量  '+newdata.shape)\n",
    "    print('{}　列削除しました'.format(data.shape[0]-newdata.shape[0]))\n",
    "    return newdata.shape"
   ]
  },
  {
   "cell_type": "code",
   "execution_count": null,
   "metadata": {},
   "outputs": [],
   "source": []
  }
 ],
 "metadata": {
  "kernelspec": {
   "display_name": "Python 3",
   "language": "python",
   "name": "python3"
  },
  "language_info": {
   "codemirror_mode": {
    "name": "ipython",
    "version": 3
   },
   "file_extension": ".py",
   "mimetype": "text/x-python",
   "name": "python",
   "nbconvert_exporter": "python",
   "pygments_lexer": "ipython3",
   "version": "3.6.8"
  }
 },
 "nbformat": 4,
 "nbformat_minor": 2
}
